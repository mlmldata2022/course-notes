{
 "cells": [
  {
   "cell_type": "markdown",
   "id": "a7b24934-a1b8-42e0-91ec-bf7e9f8919f0",
   "metadata": {},
   "source": [
    "# Exercises"
   ]
  },
  {
   "cell_type": "markdown",
   "id": "c89dd45a-976f-4ccf-956e-2904dffb2098",
   "metadata": {},
   "source": [
    "### Python modules\n",
    "\n",
    "a. Write two more unit conversion functions (converting one way and back). \n",
    "\n",
    "b. Use one in the `if __name__ == '__main__':`  section of convert.py\n",
    "\n",
    "c. Use the other in myscript.py\n",
    "\n",
    "d. Run these files from the shell, and see what parts of the code are run \n",
    "    \n",
    "e. Think about what other functions would be useful in your research (conversion or otherwise). If time, try to implement one or more of these functions in a module."
   ]
  }
 ],
 "metadata": {
  "kernelspec": {
   "display_name": "Python 3 (ipykernel)",
   "language": "python",
   "name": "python3"
  },
  "language_info": {
   "codemirror_mode": {
    "name": "ipython",
    "version": 3
   },
   "file_extension": ".py",
   "mimetype": "text/x-python",
   "name": "python",
   "nbconvert_exporter": "python",
   "pygments_lexer": "ipython3",
   "version": "3.8.12"
  }
 },
 "nbformat": 4,
 "nbformat_minor": 5
}