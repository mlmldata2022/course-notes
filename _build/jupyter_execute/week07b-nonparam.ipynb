{
 "cells": [
  {
   "cell_type": "markdown",
   "id": "cbc2e71c-5ce9-46c0-bbc9-719f42301b81",
   "metadata": {},
   "source": [
    "# Non-parametric statistical tests"
   ]
  },
  {
   "cell_type": "markdown",
   "id": "7f8777ad-7148-43a6-ab80-474e449b8416",
   "metadata": {},
   "source": [
    "## Parametric vs. non-parametric statistical tests\n",
    "\n",
    "### Parametric test\n",
    "- Based on parameters that summarize a distribution, such as mean and standard deviation\n",
    "- For example, t-tests and ANOVA assume a normal distribution of samples\n",
    "\n",
    "### Non-parametric test\n",
    "- Advantage: No assumptions about parent population (more robust)\n",
    "- Disadvantage: Less power in situations where parametric assumptions are satisfied (more samples needed to draw conclusions at same confidence level)"
   ]
  },
  {
   "cell_type": "markdown",
   "id": "b13fe1b5-124b-4de6-bbd8-885ec4c7cd3b",
   "metadata": {},
   "source": [
    "## Testing for normality\n",
    "\n",
    "The following figures come from a notebook on the central limit theorem and testing for normality of a distribution:\n",
    "\n",
    "https://github.com/tompc35/oceanography-notebooks/blob/master/central_limit_theorem.ipynb\n",
    "\n",
    "![images/norm_dist_week3.png](images/norm_dist_week3.png)\n",
    "\n",
    "Blue: Sample distribution ($O_i$)<br>\n",
    "Red: Normal distribution with same mean and standard deviation, expected value ($E_i$)\n",
    "\n",
    "### Chi squared test for normality\n",
    "\n",
    "$$ X^2 = \\sum_{i=1}^k \\frac{\\left(O_i - E_i\\right)^2}{E_i}$$\n",
    "\n",
    "Tests for goodness of fit\n",
    "\n",
    "Compare this test statistic to the Chi-Squared distribution $\\chi_{\\nu, 1-\\alpha}^2$, where $\\nu = k-1$ is the degrees of freedom.\n",
    "\n",
    "- If test statistic is larger than the Chi-square value, can reject the Null Hypothesis that they are from the same distribution. Note that this test is sensitive to bin size.\n",
    "\n",
    "### Probability Plot\n",
    "\n",
    "![images/prob_dens.png](images/prob_dens.png)\n",
    "\n",
    "The corresponding probability plot for this distribution is shown below:\n",
    "\n",
    "![images/prob_plot.png](images/prob_plot.png)\n",
    "\n",
    "The x-axis is the _quantiles_ of the normal. If a normal distribution is split up into some discrete number of pieces, the quantiles are the z-scores at the edges of each piece. The quantiles are tightly clustered near zero.\n",
    "\n",
    "The y-axis is the _ordered values_ in the sample distribution.\n",
    "\n",
    "If values are normally distributed, the quantiles should plot linearly with the ordered values. That is, most values are clustered around the mean. Note that this test is qualitative and the $R^2$ statistic does not have much meaning in this case. As we will see later, correlation statistics are only meaningful of the variables are normally distributed.\n",
    "\n",
    "###### Example for a non-normal distribution:\n",
    "\n",
    "![images/non_norm_dist.png](images/non_norm_dist.png)\n",
    "![images/non_norm_prob_plot.png](images/non_norm_prob_plot.png)\n",
    "\n"
   ]
  },
  {
   "cell_type": "markdown",
   "id": "23a30e13-4ff8-4d81-8ad1-90869f036c6e",
   "metadata": {},
   "source": [
    "### Kolmogorov-Smirnov test\n",
    "\n",
    "Can be used to compare two sample distributions, or a sample distribution and a reference distribution (normal, exponential, etc.)\n",
    "\n",
    "Null Hypothesis: Samples are drawn from the same distribution (in the two-sample case)\n",
    "\n",
    "#### An oceanographic example\n",
    "\n",
    "![images/km_dist.png](images/km_dist.png)\n",
    "\n",
    "_Source_: Durkin et al (2009), Chitin in diatoms and its association with the cell wall, Eukaryotic Cell\n",
    "\n",
    "The following graph illustrates the K-S test statistic for a two-sample test.\n",
    "\n",
    "![images/KS_wiki.png](images/KS_wiki.png)\n",
    "\n",
    "Source: https://en.wikipedia.org/wiki/Kolmogorov%E2%80%93Smirnov_test <br>\n",
    "\n",
    "Illustration of the two-sample Kolmogorov–Smirnov statistic. Red and blue lines each correspond to an empirical distribution function, and the black arrow is the two-sample KS statistic.\n",
    "\n",
    "This is a very sensitive test, therefore with lots of samples it is very easy to reject the null hypothesis. i.e. low power\n",
    "\n",
    "```python\n",
    "from scipy import stats\n",
    "\n",
    "help(stats.kstest)\n",
    "```\n",
    "\n",
    "#### Other tests for normality\n",
    "\n",
    "##### Shapiro-Wilk\n",
    "- High Power\n",
    "- Biased at __Large__ sample size\n",
    "\n",
    "```python\n",
    "from scipy import stats\n",
    "\n",
    "help(stats.shapiro)\n",
    "```\n",
    "\n",
    "##### Anderson-Darling\n",
    "\n",
    "```python\n",
    "from scipy import stats\n",
    "help(stats.anderson)\n",
    "```\n",
    "\n",
    "These tests, along with the K-S test and probability plots are included in the Python stats library."
   ]
  },
  {
   "cell_type": "markdown",
   "id": "63d3a8c8-35da-4148-a023-9bffa151a405",
   "metadata": {},
   "source": [
    "### Geometric mean\n",
    "\n",
    "If you were to log-transform data and then do a T-test, you'd be testing for a differences between geometric means.\n",
    "\n",
    "\n",
    "Will amplify the large values\n"
   ]
  },
  {
   "cell_type": "markdown",
   "id": "fa1b8d36-6a55-4c21-be88-17c4535ac9f1",
   "metadata": {},
   "source": [
    "### Non-parametric tests: univariate data\n",
    "\n",
    "#### Wilcoxan signed-rank test\n",
    "\n",
    "__$H_0$__: the median difference between pairs of observations is zero\n",
    "\n",
    "- Rank the absolute values of the differences (smallest = 1)\n",
    "- Sum the ranks of the positive values, and sum the ranks the negative values separately\n",
    "- The smaller of the two sums is the test statistic T\n",
    "- Low values of T required for significance\n",
    "- Use __Mann-Whitney__ test for unpaired data\n",
    "\n",
    "```python\n",
    "from scipy import stats\n",
    "\n",
    "stats.wilcoxon\n",
    "```\n",
    "\n",
    "#### Mann- Whitney test\n",
    "- ranked test\n",
    "- analaogue of t-test for independent samples\n",
    "\n",
    "```python\n",
    "from scipy import stats\n",
    "\n",
    "stats.mannwhitneyu\n",
    "```"
   ]
  },
  {
   "cell_type": "markdown",
   "id": "0f327bab-be72-4725-a774-bd42e82cf133",
   "metadata": {},
   "source": [
    "#### Kruskal-Wallis ANOVA\n",
    "\n",
    "__$H_0$__: Means of ranks of groups are the same <br>\n",
    "__$H_0 (II)$__: Medians of groups are the same (assuming they come from distributions with the same shape)\n",
    "\n",
    "- Related to the Mann-Whitney rank-sum test (two groups)\n",
    "- Does not assume normality, but...\n",
    "- According to [McDonald](http://www.biostathandbook.com), the Fisher's classic ANOVA is not actually very sensitive to non-normal distributions\n",
    "- Like Fisher's classic ANOVA, testing $H_0 (II)$ does not assume difference groups have same variance( homoscedasticity)\n",
    "- Welch's ANOVA is another alternative to Fisher's ANOVA that does not assume homoscedasticity (like Welch's t-test)\n",
    "\n",
    "```python\n",
    "from scipy import stats\n",
    "\n",
    "stats.kruskal\n",
    "```\n",
    "\n",
    "https://docs.scipy.org/doc/scipy-0.14.0/reference/stats.html"
   ]
  },
  {
   "cell_type": "markdown",
   "id": "a0e05dbc-36f9-4a4c-b47e-24796d35910b",
   "metadata": {},
   "source": [
    "#### Spearman's correlation coefficient, $\\rho$\n",
    "\n",
    "Non-parametric test for rank-ordered correlation.\n",
    "\n",
    "- Test for a relationship between the rank-ordered data (lowest variable in x corresponds to lowest variable in y, highest variable in x corresponds to highest variable in y, etc.)\n",
    "\n",
    "- $\\rho$ = 1 if  y increases __monotonically__ with x"
   ]
  },
  {
   "cell_type": "code",
   "execution_count": 1,
   "id": "d4b95b6c-c32a-43b2-8ae5-186906e784fd",
   "metadata": {},
   "outputs": [
    {
     "data": {
      "image/png": "[encoded data removed]",
      "text/plain": [
       "<Figure size 432x288 with 3 Axes>"
      ]
     },
     "metadata": {
      "filenames": {
       "image/png": "/Users/tomconnolly/work/Courses/DataAnalysis_MS263_2022/course-notes/_build/jupyter_execute/week07b-nonparam_8_0.png"
      },
      "needs_background": "light"
     },
     "output_type": "display_data"
    }
   ],
   "source": [
    "import numpy as np\n",
    "from scipy import stats\n",
    "import matplotlib.pyplot as plt\n",
    "\n",
    "x = np.arange(0,20,0.5)\n",
    "y1 = np.arctan(x)\n",
    "y2 = np.arctan(x)+np.random.normal(0,0.1,len(x))\n",
    "y3 = -np.arctan(x)+np.random.normal(0,0.6,len(x))\n",
    "\n",
    "rho1,p1 = stats.spearmanr(x,y1)\n",
    "rho2,p2 = stats.spearmanr(x,y2)\n",
    "rho3,p3 = stats.spearmanr(x,y3)\n",
    "\n",
    "plt.figure()\n",
    "plt.subplot(1,3,1)\n",
    "plt.plot(x,y1,'.')\n",
    "plt.title('rho = '+str(round(rho1,3))+'\\n p = '+str(round(p1,3)))\n",
    "\n",
    "plt.subplot(1,3,2)\n",
    "plt.plot(x,y2,'.')\n",
    "plt.title('rho = '+str(round(rho2,3))+'\\n p = '+str(round(p2,4)))\n",
    "\n",
    "plt.subplot(1,3,3)\n",
    "plt.plot(x,y3,'.')\n",
    "plt.title('rho = '+str(round(rho3,3))+'\\n p = '+str(round(p3,4)));"
   ]
  },
  {
   "cell_type": "markdown",
   "id": "07238a3d-4d88-474f-9020-27e74c1f3d3d",
   "metadata": {
    "tags": [
     "hide-input"
    ]
   },
   "source": [
    "Spearman's correlation coefficient is not useful for relationships like those below because they are not monotonic relationships.\n",
    "\n",
    "![images/bad_rank.png](images/bad_rank.png)\n",
    "\n",
    "[source: jpktd.blogspot.com](http://jpktd.blogspot.com/2012/06/non-linear-dependence-measures-distance.html)"
   ]
  },
  {
   "cell_type": "markdown",
   "id": "90062aeb-6cba-47d6-83c6-5b020023b539",
   "metadata": {},
   "source": [
    "## A guide to common statistical tests\n",
    "\n",
    "![images/test_cases.png](images/test_cases.png)\n",
    "\n",
    "\n",
    "Make sure that if you are using a non-parametric test, that you know what the hypothesis is. For example, Mann-Whitney and Kruskal-Wallis test for differences between _medians_, not means. If performing a t-test on log transformed data, the null hypothesis is no difference between _geometric means_ (G.M.)\n",
    "\n",
    "$$GM = \\sqrt[n]{x_i \\times x_2 \\cdots x_n}$$\n",
    "\n"
   ]
  }
 ],
 "metadata": {
  "kernelspec": {
   "display_name": "Python 3 (ipykernel)",
   "language": "python",
   "name": "python3"
  },
  "language_info": {
   "codemirror_mode": {
    "name": "ipython",
    "version": 3
   },
   "file_extension": ".py",
   "mimetype": "text/x-python",
   "name": "python",
   "nbconvert_exporter": "python",
   "pygments_lexer": "ipython3",
   "version": "3.8.12"
  }
 },
 "nbformat": 4,
 "nbformat_minor": 5
}