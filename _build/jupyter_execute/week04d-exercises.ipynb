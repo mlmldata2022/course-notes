{
 "cells": [
  {
   "cell_type": "markdown",
   "metadata": {},
   "source": [
    "**Confidence intervals**\n",
    "\n",
    "1. Interpretation of confidence intervals\n",
    "\n",
    "On the poll, list your answers to the following questions.\n",
    "\n",
    "![Conf-Int-Q.png](images/Conf-Int-Q.png)\n",
    "![Conf-Int-TF.png](images/Conf-Int-TF.png)\n",
    "\n",
    "2) A set of 100 anchovy weight samples has a mean value of 13.95 g and a standard deviation of 9.52 g.\n",
    "\n",
    "a. Calculate the standard error. \n",
    "\n",
    "b. Calculate 95% confidence intervals for the mean.\n"
   ]
  },
  {
   "cell_type": "markdown",
   "metadata": {},
   "source": [
    "3. Write a for loop that prints out the cumulative sum of an array. For example, the cumulative sum of the array\n",
    "\n",
    "```python\n",
    "[1,3,6,4,7]\n",
    "```\n",
    "\n",
    "would be:\n",
    "\n",
    "```python\n",
    "[1,4,10,14,21]\n",
    "```\n",
    "\n",
    "Write out your algorithm first, and use the following code as a template (replace the dashes ----- with code).\n",
    "\n",
    "```python\n",
    "x = [1,3,6,4,7]\n",
    "\n",
    "cumsum = 0\n",
    "for val in x:\n",
    "    cumsum = -------\n",
    "    print(cumsum)\n",
    "```\n",
    "\n",
    "4. Write a for loop that stores the cumulative sum of an array in another array. Use the `np.append()` function - see `help(np.append)` - and make sure that you have run `import numpy as np`  at the top of your program in order to use this function.\n",
    "\n",
    "```python\n",
    "x = [1,3,6,4,7]\n",
    "\n",
    "cumsum = 0\n",
    "cumsum_array = []\n",
    "for val in x:\n",
    "    cumsum = -------\n",
    "    cumsum_array = np.append(------,--------)\n",
    "\n",
    "print(cumsum_array)\n",
    "```\n",
    "\n",
    "5. (If time) Write a for loop that prints the first n numbers of the Fibonacci sequence:\n",
    "1,1,2,3,5,8,13…\n",
    "Write out your algorithm first, and start with the following minimal code. \n",
    "\n",
    "```python\n",
    "n = 10\n",
    "\n",
    "# insert code here\n",
    "```"
   ]
  },
  {
   "cell_type": "markdown",
   "metadata": {},
   "source": [
    "**Python functions**\n",
    "\n",
    "6. Create a function that converts temperature from degrees Celsius to degrees Fahrenheit.\n",
    "\n",
    "7. Use the function created above to convert the following array of temperature values from degrees F to degrees C. Avoid using a for loop.\n",
    "\n",
    "```python\n",
    "temps_f = np.array([50.5, 58.4, 62.3, 49.2])\n",
    "```\n",
    " "
   ]
  },
  {
   "cell_type": "markdown",
   "metadata": {},
   "source": [
    "8. Stokes' law predicts the settling velocity (or \"terminal velocity\") of a sinking sphere, $v$ (units: m/s). The theoretical velocity is based on the radius of the particle, $r$ (units: m), the density of the particle  $\\rho_p$ (units: kg/m$^3$), the density of the ambient fluid $\\rho_f$, the dynamic viscosity of the ambient fluid $\\mu$ (units: kg/(m*s)), and the acceleration due to gravity $g$ (units: m/s$^2$):\n",
    "\n",
    "$$v = \\frac{2}{9}\\frac{(\\rho_p-\\rho_f)}{\\mu}g r^2$$\n",
    "\n",
    "Use the following template to create a function that calculates the velocity predicted by Stokes law:"
   ]
  },
  {
   "cell_type": "markdown",
   "metadata": {},
   "source": [
    "``` python\n",
    "def stokes_law(r,rho_p,rho_f,mu,g):\n",
    "    # insert code here\n",
    "    return v\n",
    "```"
   ]
  },
  {
   "cell_type": "markdown",
   "metadata": {},
   "source": [
    "9. Use your `stokes_law` function to estimate the settling velocity of the single-cell alga *Phaeocystis globosa*, assuming it is spherical. The radius of a typical cell is 46 $\\mu m$ and the typical cell density is 1091 kg/m$^3$. For standard seawater conditions (temperature = 10 deg C, practical salinity = 35) $\\rho_f$ = 1025 kg/m$^3$, $\\mu =$ 1.51 × 10$^{−3}$ kg/(m*s).\n",
    "\n",
    "Source: L. Peperzak, F. Colijn, R. Koeman, W. W. C. Gieskes, J. C. A. Joordens, Phytoplankton sinking rates in the Rhine region of freshwater influence, Journal of Plankton Research, Volume 25, Issue 4, April 2003, Pages 365–383, https://doi.org/10.1093/plankt/25.4.365"
   ]
  },
  {
   "cell_type": "markdown",
   "metadata": {},
   "source": [
    "10. Edit your function to use typical seawater values as defaults for  `rho_f` and `mu`."
   ]
  }
 ],
 "metadata": {
  "kernelspec": {
   "display_name": "Python 3.8 (ms263-21)",
   "language": "python",
   "name": "ms263-21"
  },
  "language_info": {
   "codemirror_mode": {
    "name": "ipython",
    "version": 3
   },
   "file_extension": ".py",
   "mimetype": "text/x-python",
   "name": "python",
   "nbconvert_exporter": "python",
   "pygments_lexer": "ipython3",
   "version": "3.8.6"
  }
 },
 "nbformat": 4,
 "nbformat_minor": 4
}