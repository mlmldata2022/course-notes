{
 "cells": [
  {
   "cell_type": "markdown",
   "id": "7f0ab03c-86a3-443b-a0f2-e4ca95118834",
   "metadata": {},
   "source": [
    "# Exercises\n",
    "\n",
    "## Week 5"
   ]
  },
  {
   "cell_type": "markdown",
   "id": "c6263f8a-e753-4435-a619-8af991a5cd6b",
   "metadata": {},
   "source": [
    "### Conditional execution\n",
    "a. Calculate the absolute value of a number (not using the built-in abs function). Use the following code as a template (replace the dashes ----- with code).\n",
    "\n",
    "```\n",
    "x = ------\n",
    "if -----:\n",
    "    absx = -----\n",
    "else:\n",
    "    absx = -----\n",
    "\n",
    "print('the absolute value of x is',absx)\n",
    "```"
   ]
  },
  {
   "cell_type": "markdown",
   "id": "7cc06739-6b79-432f-aa8b-d9fa85ddd996",
   "metadata": {},
   "source": [
    "b. Using conditional execution, determine whether a user-provided integer x is even or odd and print the result (hint: the % operator calculates the remainder that occurs when dividing two numbers, e.g. the result of    7 % 3 is equal to 1).\n",
    "\n",
    "```\n",
    "xin = input('Please enter a number:')\n",
    "x = int(xin)\n",
    "if ------:\n",
    "    --------\n",
    "else:\n",
    "    print(‘The number is odd’)\n",
    "```\n",
    "\n",
    "c. Modify the code written in part b to use try and except statements to handle non-integer input gracefully. If the input is not an integer, the program should print a friendly message explaining what went wrong. \n",
    "\n",
    "d. (if time) Modify the code written in part b above to continue requesting input until an integer is provided.\n",
    "\n",
    "### Grain size classification (if time)\n",
    "\n",
    "Write a function that takes sediment grain size as an input, then returns the Wentworth grain size classification based on the table below.\n",
    "\n",
    "|  Grain Size   | Classification   |\n",
    "| ------------- | ------- |\n",
    "| >= 256 mm     | Boulder |\n",
    "| 64-256 mm     | Cobble  |\n",
    "| 2-64 mm       | Gravel  |\n",
    "| 62.5 &mu;m - 2 mm| Sand    |\n",
    "| 3.9-62.5 &mu;m   | Silt    |\n",
    "| 0.98-3.9 &mu;m   | Clay    |\n",
    "\n",
    "Test the program repeatedly to make sure it works for different input values.\n",
    "\n",
    "### Python modules\n",
    "\n",
    "a. Write two more unit conversion functions (converting one way and back). \n",
    "\n",
    "b. Use one in the `if __name__ == '__main__':`  section of convert.py\n",
    "\n",
    "c. Use the other in myscript.py\n",
    "\n",
    "d. Run these files from the shell, and see what parts of the code are run \n",
    "    \n",
    "e. Think about what other functions would be useful in your research (conversion or otherwise). If time, try to implement one or more of these functions in a module."
   ]
  },
  {
   "cell_type": "code",
   "execution_count": null,
   "id": "3b2457cf-141a-493d-b4b4-6ad8b294b7a7",
   "metadata": {},
   "outputs": [],
   "source": []
  }
 ],
 "metadata": {
  "kernelspec": {
   "display_name": "Python 3 (ipykernel)",
   "language": "python",
   "name": "python3"
  },
  "language_info": {
   "codemirror_mode": {
    "name": "ipython",
    "version": 3
   },
   "file_extension": ".py",
   "mimetype": "text/x-python",
   "name": "python",
   "nbconvert_exporter": "python",
   "pygments_lexer": "ipython3",
   "version": "3.8.12"
  }
 },
 "nbformat": 4,
 "nbformat_minor": 5
}
