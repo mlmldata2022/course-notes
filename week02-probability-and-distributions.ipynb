{
 "cells": [
  {
   "cell_type": "markdown",
   "metadata": {},
   "source": [
    "# Probability and distributions"
   ]
  },
  {
   "cell_type": "code",
   "execution_count": 1,
   "metadata": {
    "tags": [
     "hide_input"
    ]
   },
   "outputs": [],
   "source": [
    "%matplotlib inline\n",
    "import numpy as np\n",
    "from scipy import stats\n",
    "import matplotlib.pyplot as plt"
   ]
  },
  {
   "cell_type": "markdown",
   "metadata": {},
   "source": [
    "## Focus questions\n",
    "\n",
    "Goals for student knowledge at the end of the lesson:\n",
    "\n",
    "1. Give examples of situations where the following distributions are an appropriate model for observed data:\n",
    "    - Poission\n",
    "    - Weibull\n",
    "    - log-normal\n",
    "    - normal\n",
    "2. Apply Bayes' theorem to determine probability in cases where trials are not independent.\n",
    "3. How does a “prior probability” differ from a “posterior probability” in applications of Bayes’ theorem?"
   ]
  },
  {
   "cell_type": "markdown",
   "metadata": {},
   "source": [
    "## Probability Density functions\n",
    "\n",
    "__Probability Functions__\n",
    "\n",
    "$P(x)$ = probability mass function (for discrete data)\n",
    "\n",
    "_Example:_ The probability an number $x$ coming up on a dice role. The PMF is plotted as vertical lines because the probability of rolling a non-integer (e.g. 3.5) is equal to zero.\n"
   ]
  },
  {
   "cell_type": "code",
   "execution_count": 2,
   "metadata": {
    "tags": [
     "hide_input"
    ]
   },
   "outputs": [
    {
     "data": {
      "image/png": "[encoded data removed]",
      "text/plain": [
       "<Figure size 432x288 with 1 Axes>"
      ]
     },
     "metadata": {
      "needs_background": "light"
     },
     "output_type": "display_data"
    }
   ],
   "source": [
    "# generate a uniform distribution\n",
    "# see https://docs.scipy.org/doc/scipy/reference/generated/scipy.stats.randint.html#scipy.stats.randint\n",
    "low = 1\n",
    "high = 7\n",
    "rv = stats.randint(low, high)\n",
    "\n",
    "# plot the probability mass function\n",
    "x = np.arange(low,high)\n",
    "plt.vlines(x, 0, rv.pmf(x), colors='b', linestyles='-', lw=3)\n",
    "plt.xlim(0.5,6.5)\n",
    "plt.ylim(0,0.175)\n",
    "plt.title('probability mass function (PMF) for a roll of one die')\n",
    "plt.xlabel('value')\n",
    "plt.ylabel('probability');"
   ]
  },
  {
   "cell_type": "markdown",
   "metadata": {},
   "source": [
    "$F(x)$ = cumulative distribution function (CDF)\n",
    "\n",
    "The cumulative distribution is the probability of occurrence of a value of $x$ or lower. For the example of one die roll, the CDF is a step function."
   ]
  },
  {
   "cell_type": "code",
   "execution_count": 3,
   "metadata": {
    "tags": [
     "hide_input"
    ]
   },
   "outputs": [
    {
     "data": {
      "image/png": "[encoded data removed]",
      "text/plain": [
       "<Figure size 432x288 with 1 Axes>"
      ]
     },
     "metadata": {
      "needs_background": "light"
     },
     "output_type": "display_data"
    }
   ],
   "source": [
    "# make a step function from points, function adapted from http://stackoverflow.com/a/41185239\n",
    "def get_x_y_steps(x, y, where=\"post\"):\n",
    "    zipxx = list(zip(x, x))\n",
    "    zipyy = list(zip(y, y))\n",
    "    if where == \"post\":\n",
    "        x_step = [x[0]] + [_x for tup in zipxx[1:] for _x in tup]\n",
    "        y_step = [_y for tup in zipyy[:-1] for _y in tup] + [y[-1]]\n",
    "    elif where == \"pre\":\n",
    "        x_step = [_x for tup in zipxx[:-1] for _x in tup] + [x[-1]]\n",
    "        y_step = [y[0]] + [_y for tup in zipyy[1:] for _y in tup]\n",
    "    return x_step, y_step\n",
    "\n",
    "# create step function for CDF\n",
    "xcdf = np.hstack([0,x,x[-1]+1])\n",
    "ycdf = np.hstack([0,rv.cdf(x),1])\n",
    "(x_step,y_step) = get_x_y_steps(xcdf,ycdf)\n",
    "\n",
    "# plot CDF\n",
    "plt.plot(x_step, y_step,lw=3,color='b')\n",
    "plt.xlim(0.5,6.5)\n",
    "plt.ylim(0,1)\n",
    "plt.title('cumulative distribution function (CDF) for a roll of one die')\n",
    "plt.xlabel('value')\n",
    "plt.ylabel('probability');"
   ]
  },
  {
   "cell_type": "markdown",
   "metadata": {},
   "source": [
    "## Formal features of Probabilities\n",
    "__Mutiplication Principle__ - If two events $A$ and $B$ are unrelated, the probability of joint occurrence $P(A,B)$, i.e. both events happening, is multiplication of two probabilities,\n",
    "\n",
    "$P(A,B)  = p(B)p(A)$.\n",
    "\n",
    "This is a simplification of __Bayes' theorem__ for the special case where events are independent. In the more general case where the probability of events are not independent, \n",
    "\n",
    "$P(A,B) = p(B|A)p(A) = p(A|B)p(B)$,\n",
    "\n",
    "where $p(A|B)$ is the probability of $A$ occuring, given that $B$ has already occurred. In this case, the two events depend on each other, which is not the case for dice.\n",
    "\n",
    "__Additive principle__ - Probability of one event or another mutually exclusive event is the sum of the probabilities. Mutually exclusive means that the events cannot occur at the same time.\n",
    "\n",
    "$P(C|D) = P(C) + P(D)$"
   ]
  },
  {
   "cell_type": "markdown",
   "metadata": {},
   "source": [
    "### Bayes theorem – diachronic interpretation\n",
    "\n",
    "__Diachronic__: happening over time\n",
    "\n",
    "Updating a hypothesis (H) given new data (D):\n",
    "\n",
    "$P(H|D) = \\frac{P(H)P(D|H)}{P(D)}$\n",
    "\n",
    "* $P(H)$ - probability of a hypothesis before seeing data (“prior”)\n",
    "\n",
    "\n",
    "* $P(H|D)$  - probability of a hypothesis after seeing data (“posterior”)\n",
    "\n",
    "\n",
    "* $P(D|H)$ - probability of the data given the hypothesis (“likelihood”)\n",
    "\n",
    "\n",
    "* $P(D)$ - probability of the data under any hypothesis (“normalizing constant”)\n",
    "\n",
    "$P(D)$ is often the hardest to understand and quantify\n",
    "\n",
    "Problems can often be simplified by laying out a suite of hypotheses that are:\n",
    "\n",
    "1. Mutually exclusive\n",
    "\n",
    "2. Collectively exhaustive\n"
   ]
  },
  {
   "cell_type": "markdown",
   "metadata": {},
   "source": [
    "### Sum of two dice\n",
    "\n",
    "From the rules above, we can calculate the probability mass function and cumulative distribution function for the sum of two dice. From the multiplication rule, the probability of rolling a particular sequence of dice is (1/6) $\\times$ (1/6) = 1/36. This is the probability of a joint occurrence of two independent events. For example, the combinations (1 and 1), (1 and 2), (2 and 1) and (1 and 3) are all joint occurrences of two independent events.\n",
    "\n",
    "The probability of obtaining a certain sum, which may be arrived at through several possible sequences of dice rolls, can be calculated from the addition rule. There are three ways of obtaining a sum of four: (1 and 3) or (2 and 2) or (3 and 1). These combinations of rolls are mutually exlusive. Therefore the probability of rolling a four is (1/36) + (1/36) + (1/36) = 1/12.\n",
    "\n",
    "### The Monty Hall problem\n",
    "\n",
    "A classic application of Bayes theorem, showing how our intuition about probability can lead us astray."
   ]
  },
  {
   "cell_type": "markdown",
   "metadata": {},
   "source": [
    "## Distributions\n",
    "\n",
    "### Normal Distribution\n",
    "\n",
    "\n",
    "![Normal dist](images/Standard_deviation_diagram.png)\n",
    "\n",
    "* __Mean__ - 1st moment\n",
    "* __Variance__ - 2nd moment\n",
    "* __Skew__ - 3rd moment, Describes the spread (Normal Distribution, skew = 0)\n",
    "* __Kurtosis__ - 4th moment, Describes how pointy the distribution is. Low value would be flat (compared to a Normal distribution (k=3))\n",
    "\n",
    "### Non-normal distributions\n",
    "\n",
    "__Example: Life expectancy__\n",
    "\n",
    "Negative skew towards later life (spike at birth). The cumulative probability function is useful because we are not necessarily interested in the probability of dying at a very specific age, like exactly 67 years. We are more interested in the probability of living until a certain age or less. The cumulative probability distribution tapers off to one for very high ages. The probability of living to 120 years or less is equal to one.\n",
    "\n",
    "![life expectancy](images/life_expectancy_1.png)\n",
    "\n",
    "source: http://www.cureffi.org/2013/06/19/how-censoring-by-life-expectancy-affects-age-of-onset-distributions/\n",
    "\n",
    "\n",
    "### Poisson Distribution\n",
    "  * Often used as a model for count data\n",
    "  * Assumptions:\n",
    "    * One event does not affect the probability of the next (they are independent)\n",
    "    * Events cannot occur in the same time and place in the interval\n",
    "    * Events occur at a constant rate<br>\n",
    "\n",
    "$k$ = # of events counted per interval (ie floods per century)\n",
    "\n",
    "$\\lambda$ = expected values, true mean\n",
    "    \n",
    "$P(k) = \\frac{\\lambda^k e^{-\\lambda}}{k!}$\n",
    "\n",
    "Count uncertainty  = $\\sqrt{k}$ - More counts => less uncertainty\n",
    "\n",
    "__Exercise__: if on average 10 flood occur per century. What is probability of counting 15 floods occuring in a century?"
   ]
  },
  {
   "cell_type": "markdown",
   "metadata": {},
   "source": [
    "### Weibull Distribution \n",
    "\n",
    "A theoretical distribution that is often fit to wind speed data. Wind speed has only positive values, so the probability of a negative wind speed is zero. The distribution of wind speed is generally __skewed__, since very high values do occur, but are rare. This theoretical distribution is useful for engineering wind power projects, since it can be defined by a few parameters. The parameters obtained from a fit to data at a given location can be used as inputs to models for designing equipment with maximum efficiency.\n",
    "\n",
    "![weibull distribution](images/weibull.png)\n",
    "\n",
    "Source: http://www.wind-powemr-program.com/wind_statistics.htm\n",
    "\n",
    "\n",
    "### Log-Normal Distribution \n",
    "\n",
    "Many biological data, such as growth rates, follow a log-normal distribution. The distributions are skewed, with a peak close to zero but a long tail of rare high values. These data can be transformed by taking the logarithm, giving a distribution that is more symmetric and closer to a normal distribution.\n",
    "\n",
    "![log normal](images/log_normal.png)\n",
    "\n",
    "source: Landry, M.R. and B.M. Hickey (eds.) (1989) Coastal Oceanography of Washington and\n",
    "Oregon, 607 pp., Elsevier Science, Amsterdam, The Netherlands."
   ]
  },
  {
   "cell_type": "markdown",
   "metadata": {},
   "source": [
    "### Back to Normal Distributions\n",
    "\n",
    "Random instrument error is often normally distributed. The mean of errors tends to be zero if error is randomly distributed and __accurate__, i.e. not biased.\n",
    "\n",
    "![satellite error](images/instr_error_dist.png)\n",
    "\n",
    "source: Connolly and Lentz (2014)\n",
    "\n",
    "In this example, error is defined as: $T_{sat} - T_{mooring}$ units of [$^o$C]. There is a fairly large spread in the data. We therefore cannot be extremely confident in any particular satellite image. However, we can be confident that the mean of a large number of errors is close to zero.\n",
    "\n",
    "Normal distributions can be \"standardized\", where the\n",
    "* mean = 0\n",
    "* standard deviation = 1\n",
    "* Unitless\n",
    "\n",
    "The __z-score__ transforms the data so that each data point is unitless and described in terms of standard deviations away from the mean.\n",
    "\n",
    "$z_i = \\frac{x_i - \\bar{x}}{ s }$\n",
    "\n",
    "The z-score can be helpful for identifying outliers (large Z-scores). Outliers are often classified as having a z-score of $\\pm$ 3. However, the basic rules of scientific integrity require that you have a good reason for excluding outliers from your analysis, and report that they have been excluded. Never delete outliers from the original data set."
   ]
  }
 ],
 "metadata": {
  "anaconda-cloud": {},
  "kernelspec": {
   "display_name": "data-book",
   "language": "python",
   "name": "data-book"
  },
  "language_info": {
   "codemirror_mode": {
    "name": "ipython",
    "version": 3
   },
   "file_extension": ".py",
   "mimetype": "text/x-python",
   "name": "python",
   "nbconvert_exporter": "python",
   "pygments_lexer": "ipython3",
   "version": "3.8.12"
  }
 },
 "nbformat": 4,
 "nbformat_minor": 4
}
